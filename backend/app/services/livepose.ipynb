{
 "cells": [
  {
   "cell_type": "code",
   "execution_count": null,
   "id": "9d7daa43-9db5-4291-89a8-46fd5564b202",
   "metadata": {},
   "outputs": [
    {
     "name": "stderr",
     "output_type": "stream",
     "text": [
      "2025-10-18 12:48:22.358 python[14278:7077005] WARNING: AVCaptureDeviceTypeExternal is deprecated for Continuity Cameras. Please use AVCaptureDeviceTypeContinuityCamera and add NSCameraUseContinuityCameraDeviceType to your Info.plist.\n"
     ]
    }
   ],
   "source": [
    "import cv2\n",
    "import mediapipe as mp\n",
    "\n",
    "# --- Setup shortcuts ---\n",
    "mp_tasks = mp.tasks\n",
    "BaseOptions = mp_tasks.BaseOptions\n",
    "VisionRunningMode = mp_tasks.vision.RunningMode\n",
    "\n",
    "# Model paths\n",
    "pose_model = \"/Users/kadenwu/Downloads/pose_landmarker_full.task\"\n",
    "gesture_model = \"/Users/kadenwu/Downloads/gesture_recognizer.task\"\n",
    "\n",
    "# Callback for Pose results\n",
    "def handle_pose_result(result, output_image, timestamp_ms):\n",
    "    if not result.pose_landmarks:\n",
    "        return\n",
    "    annotated = output_image.copy()\n",
    "    for landmarks in result.pose_landmarks:\n",
    "        mp.solutions.drawing_utils.draw_landmarks(\n",
    "            annotated,\n",
    "            mp.solutions.pose.PoseLandmark,\n",
    "            mp.solutions.pose.POSE_CONNECTIONS\n",
    "        )\n",
    "    cv2.imshow(\"Pose Detection\", annotated)\n",
    "    cv2.waitKey(1)\n",
    "\n",
    "# Callback for Gesture results\n",
    "def handle_gesture_result(result, output_image, timestamp_ms):\n",
    "    if result.gestures:\n",
    "        gesture_name = result.gestures[0][0].category_name\n",
    "        print(f\"[Gesture] {gesture_name}\")\n",
    "\n",
    "# Initialize both tasks\n",
    "pose_options = mp_tasks.vision.PoseLandmarkerOptions(\n",
    "    base_options=BaseOptions(model_asset_path=pose_model),\n",
    "    running_mode=VisionRunningMode.LIVE_STREAM,\n",
    "    result_callback=handle_pose_result\n",
    ")\n",
    "\n",
    "gesture_options = mp_tasks.vision.GestureRecognizerOptions(\n",
    "    base_options=BaseOptions(model_asset_path=gesture_model),\n",
    "    running_mode=VisionRunningMode.LIVE_STREAM,\n",
    "    result_callback=handle_gesture_result\n",
    ")\n",
    "\n",
    "# Open webcam and run both asynchronously\n",
    "cap = cv2.VideoCapture(0)\n",
    "\n",
    "with (\n",
    "    mp_tasks.vision.PoseLandmarker.create_from_options(pose_options) as pose_landmarker,\n",
    "    mp_tasks.vision.GestureRecognizer.create_from_options(gesture_options) as gesture_recognizer\n",
    "):\n",
    "    while cap.isOpened():\n",
    "        success, frame = cap.read()\n",
    "        if not success:\n",
    "            break\n",
    "\n",
    "        frame_rgb = cv2.cvtColor(frame, cv2.COLOR_BGR2RGB)\n",
    "        mp_image = mp.Image(image_format=mp.ImageFormat.SRGB, data=frame_rgb)\n",
    "        timestamp_ms = int(cap.get(cv2.CAP_PROP_POS_MSEC))\n",
    "\n",
    "        # Run both models asynchronously\n",
    "        pose_landmarker.detect_async(mp_image, timestamp_ms)\n",
    "        gesture_recognizer.recognize_async(mp_image, timestamp_ms)\n",
    "\n",
    "cap.release()\n",
    "cv2.destroyAllWindows()\n"
   ]
  },
  {
   "cell_type": "code",
   "execution_count": null,
   "id": "b8a6d1a4-2051-4414-a23b-3da53b1f2dec",
   "metadata": {},
   "outputs": [],
   "source": []
  }
 ],
 "metadata": {
  "kernelspec": {
   "display_name": "hackathon",
   "language": "python",
   "name": "hackatohn"
  },
  "language_info": {
   "codemirror_mode": {
    "name": "ipython",
    "version": 3
   },
   "file_extension": ".py",
   "mimetype": "text/x-python",
   "name": "python",
   "nbconvert_exporter": "python",
   "pygments_lexer": "ipython3",
   "version": "3.10.18"
  }
 },
 "nbformat": 4,
 "nbformat_minor": 5
}
